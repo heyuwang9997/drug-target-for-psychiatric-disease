{
 "cells": [
  {
   "cell_type": "code",
   "execution_count": 1,
   "id": "343a6885",
   "metadata": {},
   "outputs": [],
   "source": [
    "import xml.etree.ElementTree as ET"
   ]
  },
  {
   "cell_type": "code",
   "execution_count": 2,
   "id": "752e7533",
   "metadata": {
    "scrolled": true
   },
   "outputs": [],
   "source": [
    "file_path = '../data/indication_gene_link/MeSH_ID.xml'\n",
    "\n",
    "tree = ET.parse(file_path)\n",
    "root = tree.getroot()"
   ]
  },
  {
   "cell_type": "code",
   "execution_count": 6,
   "id": "184f1381",
   "metadata": {},
   "outputs": [
    {
     "name": "stdout",
     "output_type": "stream",
     "text": [
      "Attention Deficit Hyperactivity Disorder:\n",
      "Alzheimer’s Disease:\n",
      "  Alzheimer Disease: D000544\n",
      "Anxiety Disorder:\n",
      "  Anxiety: D001007\n",
      "  Panic Disorder: D016584\n",
      "Autism Spectrum Disorder:\n",
      "  Autism Spectrum Disorder: D000067877\n",
      "  Asperger Syndrome: D020817\n",
      "Bipolar Disorder:\n",
      "  Bipolar Disorder: D001714\n",
      "Cross-Disorder:\n",
      "  Mental Disorders: D001523\n",
      "Eating Disorders:\n",
      "  Anorexia Nervosa: D000856\n",
      "  Bulimia Nervosa: D052018\n",
      "Major Depressive Disorder:\n",
      "  Depression: D003863\n",
      "Obsessive-Compulsive Disorder:\n",
      "  Obsessive-Compulsive Disorder: D009771\n",
      "Post Traumatic Stress Disorder:\n",
      "Schizophrenia:\n",
      "  Schizophrenia: D012559\n",
      "Substance Use Disorders:\n"
     ]
    }
   ],
   "source": [
    "\n",
    "diseases_variants_dict = {\n",
    "    \"Attention Deficit Hyperactivity Disorder\": [\"ADHD\", \"Attention Deficit Disorder\", \"ADD\"],\n",
    "    \"Alzheimer’s Disease\": [\"AD\", \"Alzheimer's\", \"Alzheimer Disease\"],\n",
    "    \"Anxiety Disorder\": [\"Anxiety\", \"GAD\", \"Generalized Anxiety Disorder\", \"Panic Disorder\"],\n",
    "    \"Autism Spectrum Disorder\": [\"ASD\", \"Autism\", \"Asperger Syndrome\"],\n",
    "    \"Bipolar Disorder\": [\"Manic Depression\", \"Bipolar Affective Disorder\", \"BPAD\"],\n",
    "    \"Cross-Disorder\": [\"Psychiatric Disorder\", \"Mental Disorders\", \"Psychological Disorder\"],\n",
    "    \"Eating Disorders\": [\"Anorexia Nervosa\", \"Bulimia Nervosa\", \"Binge Eating Disorder\"],\n",
    "    \"Major Depressive Disorder\": [\"MDD\", \"Clinical Depression\", \"Depression\", \"Dysthymia\"],\n",
    "    \"Obsessive-Compulsive Disorder\": [\"OCD\", \"Compulsive Disorder\", \"Obsessive Disorder\"],\n",
    "    \"Post Traumatic Stress Disorder\": [\"PTSD\", \"Post-Traumatic Stress\", \"Trauma\"],\n",
    "    \"Schizophrenia\": [\"Schizoaffective Disorder\", \"Psychosis\", \"Schizophreniform Disorder\"],\n",
    "    \"Substance Use Disorders\": [\"SUD\", \"Drug Use\", \"Substance Dependence\", \"Drug Abuse\"],\n",
    "}\n",
    "\n",
    "diseases_id_map = {main_name: {} for main_name in diseases_variants_dict}\n",
    "\n",
    "for descriptor in root.findall('.//DescriptorRecord'):\n",
    "    descriptor_name = descriptor.find('.//DescriptorName/String').text\n",
    "    descriptor_id = descriptor.find('.//DescriptorUI').text\n",
    "\n",
    "    for main_name, variants in diseases_variants_dict.items():\n",
    "        if descriptor_name == main_name or descriptor_name in variants:\n",
    "            diseases_id_map[main_name][descriptor_name] = descriptor_id\n",
    "\n",
    "for main_name, variants_map in diseases_id_map.items():\n",
    "    print(f\"{main_name}:\")\n",
    "    for variant, mesh_id in variants_map.items():\n",
    "        print(f\"  {variant}: {mesh_id}\")"
   ]
  },
  {
   "cell_type": "code",
   "execution_count": null,
   "id": "c505b209",
   "metadata": {},
   "outputs": [],
   "source": []
  }
 ],
 "metadata": {
  "kernelspec": {
   "display_name": "Python 3 (ipykernel)",
   "language": "python",
   "name": "python3"
  },
  "language_info": {
   "codemirror_mode": {
    "name": "ipython",
    "version": 3
   },
   "file_extension": ".py",
   "mimetype": "text/x-python",
   "name": "python",
   "nbconvert_exporter": "python",
   "pygments_lexer": "ipython3",
   "version": "3.11.5"
  }
 },
 "nbformat": 4,
 "nbformat_minor": 5
}
