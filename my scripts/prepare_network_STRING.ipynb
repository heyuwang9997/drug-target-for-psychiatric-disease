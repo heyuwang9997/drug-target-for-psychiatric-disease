{
 "cells": [
  {
   "cell_type": "code",
   "execution_count": 24,
   "id": "dbba289c",
   "metadata": {},
   "outputs": [],
   "source": [
    "import pandas as pd"
   ]
  },
  {
   "cell_type": "code",
   "execution_count": 26,
   "id": "6305f7be",
   "metadata": {
    "scrolled": false
   },
   "outputs": [
    {
     "name": "stdout",
     "output_type": "stream",
     "text": [
      "               protein1              protein2  neighborhood  fusion  \\\n",
      "0  9606.ENSP00000000233  9606.ENSP00000356607             0       0   \n",
      "1  9606.ENSP00000000233  9606.ENSP00000427567             0       0   \n",
      "2  9606.ENSP00000000233  9606.ENSP00000253413             0       0   \n",
      "3  9606.ENSP00000000233  9606.ENSP00000493357             0       0   \n",
      "4  9606.ENSP00000000233  9606.ENSP00000324127             0       0   \n",
      "\n",
      "   cooccurence  coexpression  experimental  database  textmining  \\\n",
      "0            0            45           134         0          81   \n",
      "1            0             0           128         0          70   \n",
      "2            0           118            49         0          69   \n",
      "3            0            56            53         0         457   \n",
      "4            0             0            46         0         197   \n",
      "\n",
      "   combined_score  \n",
      "0             173  \n",
      "1             154  \n",
      "2             151  \n",
      "3             471  \n",
      "4             201  \n"
     ]
    }
   ],
   "source": [
    "ndf = pd.read_csv('../data/STRING_raw.txt', delim_whitespace=True)\n",
    "print(ndf.head())"
   ]
  },
  {
   "cell_type": "code",
   "execution_count": null,
   "id": "fa18f076",
   "metadata": {},
   "outputs": [],
   "source": [
    "ndf = ndf[ndf.combined_score >= 150]\n",
    "ndf[\"protein1\"] = ndf[\"protein1\"].apply(lambda x: x[5:])\n",
    "ndf[\"protein2\"] = ndf[\"protein2\"].apply(lambda x: x[5:])\n",
    "print(ndf.head())"
   ]
  },
  {
   "cell_type": "code",
   "execution_count": 28,
   "id": "cf1c7327",
   "metadata": {},
   "outputs": [],
   "source": [
    "# merge Ensembl Identifier\n",
    "gene_df = pd.read_csv('../data/Ensembl_transcript_peptide_HGNC.tsv', sep = '\\t')\n",
    "gene_df = gene_df[[\"ensembl_gene_id\", \"ensembl_peptide_id\"]]\n",
    "ndf = ndf.merge(gene_df, left_on = \"protein1\", right_on = \"ensembl_peptide_id\")\n",
    "ndf = ndf.rename(columns = {\"ensembl_gene_id\": \"gene1\"})\n",
    "ndf = ndf.merge(gene_df, left_on = \"protein2\", right_on = \"ensembl_peptide_id\")\n",
    "ndf = ndf.rename(columns = {\"ensembl_gene_id\": \"gene2\"})\n",
    "print(ndf.head())"
   ]
  },
  {
   "cell_type": "code",
   "execution_count": 29,
   "id": "3358e262",
   "metadata": {},
   "outputs": [],
   "source": [
    "ndf = ndf[[\"gene1\", \"gene2\", \"combined_score\"]]\n",
    "ndf = ndf.drop_duplicates()\n",
    "ndf[\"weight\"] = ndf.combined_score\n",
    "ndf = ndf[[\"gene1\", \"gene2\", \"weight\"]]\n",
    "print(ndf.head())"
   ]
  },
  {
   "cell_type": "code",
   "execution_count": 31,
   "id": "119129a1",
   "metadata": {},
   "outputs": [],
   "source": [
    "ndf.to_csv(\"../output/network_STRING.tsv\", sep = '\\t', index = False)"
   ]
  },
  {
   "cell_type": "code",
   "execution_count": 32,
   "id": "ade53abe",
   "metadata": {},
   "outputs": [
    {
     "name": "stdout",
     "output_type": "stream",
     "text": [
      "             gene1            gene2  weight\n",
      "0  ENSG00000004059  ENSG00000116191     173\n",
      "1  ENSG00000006451  ENSG00000116191     732\n",
      "2  ENSG00000011478  ENSG00000116191     154\n",
      "3  ENSG00000012124  ENSG00000116191     204\n",
      "4  ENSG00000053918  ENSG00000116191     155\n"
     ]
    }
   ],
   "source": [
    "print(ndf.head())"
   ]
  },
  {
   "cell_type": "code",
   "execution_count": null,
   "id": "cc715ea4",
   "metadata": {},
   "outputs": [],
   "source": []
  }
 ],
 "metadata": {
  "kernelspec": {
   "display_name": "Python 3 (ipykernel)",
   "language": "python",
   "name": "python3"
  },
  "language_info": {
   "codemirror_mode": {
    "name": "ipython",
    "version": 3
   },
   "file_extension": ".py",
   "mimetype": "text/x-python",
   "name": "python",
   "nbconvert_exporter": "python",
   "pygments_lexer": "ipython3",
   "version": "3.11.5"
  }
 },
 "nbformat": 4,
 "nbformat_minor": 5
}
