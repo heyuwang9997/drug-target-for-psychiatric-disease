{
 "cells": [
  {
   "cell_type": "code",
   "execution_count": 4,
   "id": "832cbc94",
   "metadata": {
    "scrolled": true
   },
   "outputs": [
    {
     "name": "stdout",
     "output_type": "stream",
     "text": [
      "                  chemical     alias   source\n",
      "CIDm00002339  CIDs46937178  DrugBank  DB08775\n",
      "CIDm00739358  CIDs00739358  DrugBank  DB08776\n",
      "CIDm00098614  CIDs00098614  DrugBank  DB08777\n",
      "CIDm01484819  CIDs01484819  DrugBank  DB08778\n",
      "CIDm46937179  CIDs46937179  DrugBank  DB08779\n",
      "...                    ...       ...      ...\n",
      "CIDm46216142  CIDs46216142  DrugBank  DB08930\n",
      "CIDm16004692  CIDs16004692  DrugBank  DB08932\n",
      "CIDm00214339  CIDs09863407  DrugBank  DB08933\n",
      "CIDm25094462  CIDs73425384  DrugBank  DB08934\n",
      "CIDm00002710  CIDs00002710  DrugBank  DB08936\n",
      "\n",
      "[100 rows x 3 columns]\n"
     ]
    }
   ],
   "source": [
    "import pandas as pd\n",
    "\n",
    "file_path = '../data/indication_gene_link/STITCH.chemical.sources.v5.0.tsv'\n",
    "\n",
    "chunksize = 10000 \n",
    "\n",
    "filtered_df = pd.DataFrame()\n",
    "\n",
    "for chunk in pd.read_csv(file_path, sep='\\t', comment='#', chunksize=chunksize, \n",
    "                         index_col=0, header=0):\n",
    "    filtered_chunk = chunk[chunk['alias'] == 'DrugBank']\n",
    "    filtered_df = pd.concat([filtered_df, filtered_chunk])\n",
    "\n",
    "print(filtered_df.tail(100))"
   ]
  },
  {
   "cell_type": "code",
   "execution_count": 5,
   "id": "20c6f4dc",
   "metadata": {
    "scrolled": true
   },
   "outputs": [],
   "source": [
    "filtered_df.reset_index(inplace=True)\n",
    "\n",
    "filtered_df.columns = [\"CID1\", \"CID2\", \"source\", \"drugbank_id\"]"
   ]
  },
  {
   "cell_type": "code",
   "execution_count": 6,
   "id": "1ab6c42e",
   "metadata": {},
   "outputs": [
    {
     "name": "stdout",
     "output_type": "stream",
     "text": [
      "            CID1          CID2    source drugbank_id\n",
      "0   CIDm00047725  CIDs05311128  DrugBank     DB00014\n",
      "1   CIDm00027991  CIDs16051933  DrugBank     DB00035\n",
      "2   CIDm25074886  CIDs25074886  DrugBank     DB00050\n",
      "3   CIDm00002909  CIDs05280754  DrugBank     DB00091\n",
      "4   CIDm00005956  CIDs14257662  DrugBank     DB00093\n",
      "..           ...           ...       ...         ...\n",
      "95  CIDm00004993  CIDs00004993  DrugBank     DB00205\n",
      "96  CIDm00005052  CIDs00005770  DrugBank     DB00206\n",
      "97  CIDm00002269  CIDs00447043  DrugBank     DB00207\n",
      "98  CIDm00005472  CIDs00005472  DrugBank     DB00208\n",
      "99  CIDm00005596  CIDs00005596  DrugBank     DB00209\n",
      "\n",
      "[100 rows x 4 columns]\n"
     ]
    }
   ],
   "source": [
    "print(filtered_df.head(100))"
   ]
  },
  {
   "cell_type": "code",
   "execution_count": 7,
   "id": "716950a4",
   "metadata": {},
   "outputs": [],
   "source": [
    "filtered_df.to_csv('../data/indication_gene_link/STITCH_to_Drugbank_mapping.csv', index=False)"
   ]
  },
  {
   "cell_type": "code",
   "execution_count": 3,
   "id": "b6f9354c",
   "metadata": {},
   "outputs": [
    {
     "name": "stdout",
     "output_type": "stream",
     "text": [
      "               item_id_a             item_id_b        mode  action  \\\n",
      "0   9606.ENSP00000170630          CIDm00010461  expression     NaN   \n",
      "1           CIDm00010461  9606.ENSP00000170630  expression     NaN   \n",
      "2   9606.ENSP00000353915          CIDs23627457     binding     NaN   \n",
      "3           CIDs23627457  9606.ENSP00000353915     binding     NaN   \n",
      "4   9606.ENSP00000256906          CIDs44408029     binding     NaN   \n",
      "..                   ...                   ...         ...     ...   \n",
      "95          CIDm09891337  9606.ENSP00000355719     binding     NaN   \n",
      "96  9606.ENSP00000291294          CIDm23017561     binding     NaN   \n",
      "97          CIDm23017561  9606.ENSP00000291294     binding     NaN   \n",
      "98  9606.ENSP00000239032          CIDm68269773     binding     NaN   \n",
      "99          CIDm68269773  9606.ENSP00000239032     binding     NaN   \n",
      "\n",
      "   a_is_acting  score  \n",
      "0            f    150  \n",
      "1            t    150  \n",
      "2            f    191  \n",
      "3            f    191  \n",
      "4            f    521  \n",
      "..         ...    ...  \n",
      "95           f    208  \n",
      "96           f    437  \n",
      "97           f    437  \n",
      "98           f    254  \n",
      "99           f    254  \n",
      "\n",
      "[100 rows x 6 columns]\n"
     ]
    }
   ],
   "source": [
    "file_path = '../data/indication_gene_link/STITCH.9606.actions.v5.0.tsv'\n",
    "\n",
    "df2 = pd.read_csv(file_path, sep='\\t', comment='#', nrows=200)\n",
    "\n",
    "print(df2.head(100))"
   ]
  },
  {
   "cell_type": "code",
   "execution_count": 3,
   "id": "d103ed09",
   "metadata": {},
   "outputs": [
    {
     "name": "stdout",
     "output_type": "stream",
     "text": [
      "{'BindingDB', 'PC', 'KEGG', 'ChEMBL', 'ChEBI', 'PS', 'DrugBank', 'ATC'}\n"
     ]
    }
   ],
   "source": [
    "import pandas as pd\n",
    "\n",
    "file_path = '../data/indication_gene_link/STITCH.chemical.sources.v5.0.tsv'\n",
    "chunksize = 10000\n",
    "\n",
    "# Set to hold the unique alias values\n",
    "unique_aliases = set()\n",
    "\n",
    "for chunk in pd.read_csv(file_path, sep='\\t', comment='#', chunksize=chunksize, \n",
    "                         index_col=0, header=0):\n",
    "    unique_aliases.update(chunk['alias'].unique())\n",
    "\n",
    "# Display the unique values found in the 'alias' column\n",
    "print(unique_aliases)\n"
   ]
  },
  {
   "cell_type": "code",
   "execution_count": null,
   "id": "c73c9471",
   "metadata": {},
   "outputs": [],
   "source": []
  }
 ],
 "metadata": {
  "kernelspec": {
   "display_name": "Python 3 (ipykernel)",
   "language": "python",
   "name": "python3"
  },
  "language_info": {
   "codemirror_mode": {
    "name": "ipython",
    "version": 3
   },
   "file_extension": ".py",
   "mimetype": "text/x-python",
   "name": "python",
   "nbconvert_exporter": "python",
   "pygments_lexer": "ipython3",
   "version": "3.11.5"
  }
 },
 "nbformat": 4,
 "nbformat_minor": 5
}
