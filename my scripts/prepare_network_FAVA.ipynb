{
 "cells": [
  {
   "cell_type": "code",
   "execution_count": 2,
   "id": "c3f8a878",
   "metadata": {},
   "outputs": [
    {
     "data": {
      "text/html": [
       "<div>\n",
       "<style scoped>\n",
       "    .dataframe tbody tr th:only-of-type {\n",
       "        vertical-align: middle;\n",
       "    }\n",
       "\n",
       "    .dataframe tbody tr th {\n",
       "        vertical-align: top;\n",
       "    }\n",
       "\n",
       "    .dataframe thead th {\n",
       "        text-align: right;\n",
       "    }\n",
       "</style>\n",
       "<table border=\"1\" class=\"dataframe\">\n",
       "  <thead>\n",
       "    <tr style=\"text-align: right;\">\n",
       "      <th></th>\n",
       "      <th>protein1</th>\n",
       "      <th>protein2</th>\n",
       "      <th>combined_score</th>\n",
       "    </tr>\n",
       "  </thead>\n",
       "  <tbody>\n",
       "    <tr>\n",
       "      <th>0</th>\n",
       "      <td>ENSP00000364801</td>\n",
       "      <td>ENSP00000364802</td>\n",
       "      <td>0.999238</td>\n",
       "    </tr>\n",
       "    <tr>\n",
       "      <th>1</th>\n",
       "      <td>ENSP00000364802</td>\n",
       "      <td>ENSP00000364801</td>\n",
       "      <td>0.999238</td>\n",
       "    </tr>\n",
       "    <tr>\n",
       "      <th>2</th>\n",
       "      <td>ENSP00000272317</td>\n",
       "      <td>ENSP00000388107</td>\n",
       "      <td>0.998675</td>\n",
       "    </tr>\n",
       "    <tr>\n",
       "      <th>3</th>\n",
       "      <td>ENSP00000388107</td>\n",
       "      <td>ENSP00000272317</td>\n",
       "      <td>0.998675</td>\n",
       "    </tr>\n",
       "    <tr>\n",
       "      <th>4</th>\n",
       "      <td>ENSP00000349960</td>\n",
       "      <td>ENSP00000458162</td>\n",
       "      <td>0.998643</td>\n",
       "    </tr>\n",
       "  </tbody>\n",
       "</table>\n",
       "</div>"
      ],
      "text/plain": [
       "          protein1         protein2  combined_score\n",
       "0  ENSP00000364801  ENSP00000364802        0.999238\n",
       "1  ENSP00000364802  ENSP00000364801        0.999238\n",
       "2  ENSP00000272317  ENSP00000388107        0.998675\n",
       "3  ENSP00000388107  ENSP00000272317        0.998675\n",
       "4  ENSP00000349960  ENSP00000458162        0.998643"
      ]
     },
     "execution_count": 2,
     "metadata": {},
     "output_type": "execute_result"
    }
   ],
   "source": [
    "import pandas as pd\n",
    "\n",
    "ndf = pd.read_csv('../data/Fava_Network_raw.tsv', sep = '\\t', names = [\"protein1\", \"protein2\", \"combined_score\"])\n",
    "\n",
    "ndf[\"protein1\"] = ndf[\"protein1\"].apply(lambda x: x[5:])\n",
    "ndf[\"protein2\"] = ndf[\"protein2\"].apply(lambda x: x[5:])\n",
    "\n",
    "ndf.head()"
   ]
  },
  {
   "cell_type": "code",
   "execution_count": 3,
   "id": "9fdead08",
   "metadata": {},
   "outputs": [
    {
     "data": {
      "text/html": [
       "<div>\n",
       "<style scoped>\n",
       "    .dataframe tbody tr th:only-of-type {\n",
       "        vertical-align: middle;\n",
       "    }\n",
       "\n",
       "    .dataframe tbody tr th {\n",
       "        vertical-align: top;\n",
       "    }\n",
       "\n",
       "    .dataframe thead th {\n",
       "        text-align: right;\n",
       "    }\n",
       "</style>\n",
       "<table border=\"1\" class=\"dataframe\">\n",
       "  <thead>\n",
       "    <tr style=\"text-align: right;\">\n",
       "      <th></th>\n",
       "      <th>gene1</th>\n",
       "      <th>gene2</th>\n",
       "      <th>weight</th>\n",
       "    </tr>\n",
       "  </thead>\n",
       "  <tbody>\n",
       "    <tr>\n",
       "      <th>0</th>\n",
       "      <td>ENSG00000204388</td>\n",
       "      <td>ENSG00000204389</td>\n",
       "      <td>999.238</td>\n",
       "    </tr>\n",
       "    <tr>\n",
       "      <th>1</th>\n",
       "      <td>ENSG00000143947</td>\n",
       "      <td>ENSG00000204389</td>\n",
       "      <td>232.099</td>\n",
       "    </tr>\n",
       "    <tr>\n",
       "      <th>2</th>\n",
       "      <td>ENSG00000221983</td>\n",
       "      <td>ENSG00000204389</td>\n",
       "      <td>196.074</td>\n",
       "    </tr>\n",
       "    <tr>\n",
       "      <th>3</th>\n",
       "      <td>ENSG00000075624</td>\n",
       "      <td>ENSG00000204389</td>\n",
       "      <td>237.277</td>\n",
       "    </tr>\n",
       "    <tr>\n",
       "      <th>4</th>\n",
       "      <td>ENSG00000184009</td>\n",
       "      <td>ENSG00000204389</td>\n",
       "      <td>237.765</td>\n",
       "    </tr>\n",
       "  </tbody>\n",
       "</table>\n",
       "</div>"
      ],
      "text/plain": [
       "             gene1            gene2   weight\n",
       "0  ENSG00000204388  ENSG00000204389  999.238\n",
       "1  ENSG00000143947  ENSG00000204389  232.099\n",
       "2  ENSG00000221983  ENSG00000204389  196.074\n",
       "3  ENSG00000075624  ENSG00000204389  237.277\n",
       "4  ENSG00000184009  ENSG00000204389  237.765"
      ]
     },
     "execution_count": 3,
     "metadata": {},
     "output_type": "execute_result"
    }
   ],
   "source": [
    "# merge Ensembl Identifier\n",
    "gene_df = pd.read_csv('../data/Ensembl_transcript_peptide_HGNC.tsv', sep = '\\t')\n",
    "gene_df = gene_df[[\"ensembl_gene_id\", \"ensembl_peptide_id\"]]\n",
    "ndf = ndf.merge(gene_df, left_on = \"protein1\", right_on = \"ensembl_peptide_id\")\n",
    "ndf = ndf.rename(columns = {\"ensembl_gene_id\": \"gene1\"})\n",
    "ndf = ndf.merge(gene_df, left_on = \"protein2\", right_on = \"ensembl_peptide_id\")\n",
    "ndf = ndf.rename(columns = {\"ensembl_gene_id\": \"gene2\"})\n",
    "\n",
    "ndf = ndf[[\"gene1\", \"gene2\", \"combined_score\"]]\n",
    "ndf = ndf.drop_duplicates()\n",
    "ndf[\"weight\"] = ndf.combined_score*1000\n",
    "ndf = ndf[[\"gene1\", \"gene2\", \"weight\"]]\n",
    "\n",
    "ndf.head()"
   ]
  },
  {
   "cell_type": "code",
   "execution_count": 4,
   "id": "6fc04107",
   "metadata": {},
   "outputs": [],
   "source": [
    "ndf.to_csv('../data/Fava_Network.tsv', sep = '\\t', index = False)"
   ]
  },
  {
   "cell_type": "code",
   "execution_count": null,
   "id": "114ebeb8",
   "metadata": {},
   "outputs": [],
   "source": []
  }
 ],
 "metadata": {
  "kernelspec": {
   "display_name": "Python 3 (ipykernel)",
   "language": "python",
   "name": "python3"
  },
  "language_info": {
   "codemirror_mode": {
    "name": "ipython",
    "version": 3
   },
   "file_extension": ".py",
   "mimetype": "text/x-python",
   "name": "python",
   "nbconvert_exporter": "python",
   "pygments_lexer": "ipython3",
   "version": "3.11.5"
  }
 },
 "nbformat": 4,
 "nbformat_minor": 5
}
