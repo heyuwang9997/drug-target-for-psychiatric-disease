{
 "cells": [
  {
   "cell_type": "code",
   "execution_count": 14,
   "id": "5e558c16",
   "metadata": {},
   "outputs": [],
   "source": [
    "import xml.etree.ElementTree as ET\n",
    "import pandas as pd\n",
    "\n",
    "tree = ET.parse('../data/indication_gene_link/drugbank.xml')\n",
    "root = tree.getroot()\n",
    "\n",
    "drug_data = []\n",
    "\n",
    "for drug in root.findall('{http://www.drugbank.ca}drug'):\n",
    "    drugbank_id = drug.find('{http://www.drugbank.ca}drugbank-id').text if drug.find('{http://www.drugbank.ca}drugbank-id') is not None else \"N/A\"\n",
    "    generic_name = drug.find('{http://www.drugbank.ca}name').text if drug.find('{http://www.drugbank.ca}name') is not None else \"N/A\"\n",
    "    indication = drug.find('{http://www.drugbank.ca}indication').text if drug.find('{http://www.drugbank.ca}indication') is not None else \"N/A\"\n",
    "\n",
    "    drug_data.append({\n",
    "        \"DrugBank ID\": drugbank_id,\n",
    "        \"Generic Name\": generic_name,\n",
    "        \"Indication\": indication\n",
    "    })\n",
    "\n",
    "df = pd.DataFrame(drug_data)\n"
   ]
  },
  {
   "cell_type": "code",
   "execution_count": 15,
   "id": "859bd13a",
   "metadata": {},
   "outputs": [
    {
     "data": {
      "text/html": [
       "<div>\n",
       "<style scoped>\n",
       "    .dataframe tbody tr th:only-of-type {\n",
       "        vertical-align: middle;\n",
       "    }\n",
       "\n",
       "    .dataframe tbody tr th {\n",
       "        vertical-align: top;\n",
       "    }\n",
       "\n",
       "    .dataframe thead th {\n",
       "        text-align: right;\n",
       "    }\n",
       "</style>\n",
       "<table border=\"1\" class=\"dataframe\">\n",
       "  <thead>\n",
       "    <tr style=\"text-align: right;\">\n",
       "      <th></th>\n",
       "      <th>DrugBank ID</th>\n",
       "      <th>Generic Name</th>\n",
       "      <th>Indication</th>\n",
       "      <th>Disease</th>\n",
       "    </tr>\n",
       "  </thead>\n",
       "  <tbody>\n",
       "    <tr>\n",
       "      <th>1</th>\n",
       "      <td>DB00002</td>\n",
       "      <td>Cetuximab</td>\n",
       "      <td>Cetuximab indicated for the treatment of local...</td>\n",
       "      <td>Eating Disorders</td>\n",
       "    </tr>\n",
       "    <tr>\n",
       "      <th>64</th>\n",
       "      <td>DB00068</td>\n",
       "      <td>Interferon beta-1b</td>\n",
       "      <td>Interferon beta-1b is a drug used for the trea...</td>\n",
       "      <td>Substance Use Disorders</td>\n",
       "    </tr>\n",
       "    <tr>\n",
       "      <th>100</th>\n",
       "      <td>DB00109</td>\n",
       "      <td>Enfuvirtide</td>\n",
       "      <td>Enfuvirtide is an antiretroviral drug used in ...</td>\n",
       "      <td>Substance Use Disorders</td>\n",
       "    </tr>\n",
       "    <tr>\n",
       "      <th>105</th>\n",
       "      <td>DB00114</td>\n",
       "      <td>Pyridoxal phosphate</td>\n",
       "      <td>For nutritional supplementation and for treati...</td>\n",
       "      <td>Eating Disorders</td>\n",
       "    </tr>\n",
       "    <tr>\n",
       "      <th>107</th>\n",
       "      <td>DB00116</td>\n",
       "      <td>Tetrahydrofolic acid</td>\n",
       "      <td>For nutritional supplementation, also for trea...</td>\n",
       "      <td>Eating Disorders</td>\n",
       "    </tr>\n",
       "  </tbody>\n",
       "</table>\n",
       "</div>"
      ],
      "text/plain": [
       "    DrugBank ID          Generic Name  \\\n",
       "1       DB00002             Cetuximab   \n",
       "64      DB00068    Interferon beta-1b   \n",
       "100     DB00109           Enfuvirtide   \n",
       "105     DB00114   Pyridoxal phosphate   \n",
       "107     DB00116  Tetrahydrofolic acid   \n",
       "\n",
       "                                            Indication  \\\n",
       "1    Cetuximab indicated for the treatment of local...   \n",
       "64   Interferon beta-1b is a drug used for the trea...   \n",
       "100  Enfuvirtide is an antiretroviral drug used in ...   \n",
       "105  For nutritional supplementation and for treati...   \n",
       "107  For nutritional supplementation, also for trea...   \n",
       "\n",
       "                     Disease  \n",
       "1           Eating Disorders  \n",
       "64   Substance Use Disorders  \n",
       "100  Substance Use Disorders  \n",
       "105         Eating Disorders  \n",
       "107         Eating Disorders  "
      ]
     },
     "execution_count": 15,
     "metadata": {},
     "output_type": "execute_result"
    }
   ],
   "source": [
    "import pandas as pd\n",
    "\n",
    "filtered_df = pd.DataFrame(columns=df.columns.tolist() + ['Disease'])\n",
    "\n",
    "disease_synonyms = {\n",
    "    \"Attention Deficit Hyperactivity Disorder\": [\"ADHD\", \"Attention\", \"Hyperkinetic Syndrome\", \"Brain Dysfunction\"],\n",
    "    \"Alzheimer’s Disease\": [\"Alzheimer\"],\n",
    "    \"Anxiety Disorder\": [\"Anxiety\", \"Hypervigilance\", \"Nervousness\", \"Anxiousness\", \"Anxieties\"],\n",
    "    \"Autism Spectrum Disorder\": [\"ASD\", \"Autism\", \"Autistic\"],\n",
    "    \"Bipolar Disorder\": [\"Manic Depression\", \"Bipolar\", \"BPAD\", \"Bipolar disorder\"],\n",
    "    \"Eating Disorders\": [\"Eating\", \"Feeding\"],\n",
    "    \"Major Depressive Disorder\": [\"Depressive\", \"MDD\", \"Involutional Paraphrenia\", \"depression\"],\n",
    "    \"OCD & Tourette Syndrome\": [\"Obsessive\", \"OCD\", \"Tourette\", \"Compulsive\"],\n",
    "    \"Post Traumatic Stress Disorder\": [\"Post Traumatic Stress Disorder\", \"PTSD\", \"Post-Traumatic Stress\"],\n",
    "    \"Schizophrenia\": [\"Schizoaffective Disorder\", \"Schizophrenia\"],\n",
    "    \"Substance Use Disorders\": [\"Substance Use Disorders\", \"SUD\", \"Drug Use\", \"Drug Abuse\", \"Substance Dependence\", \"Opioid dependence\", \"Opioid use\",\"Cannabis use disorder\", \"Alcohol use\", \"Alcohol dependence\"]\n",
    "}\n",
    "\n",
    "\n",
    "def find_disease(indication):\n",
    "    for disease, synonyms in disease_synonyms.items():\n",
    "        if indication:\n",
    "            for synonym in [disease] + synonyms:\n",
    "                if synonym.lower() in indication.lower():\n",
    "                    return disease\n",
    "    return \"None\"\n",
    "\n",
    "df['Disease'] = df['Indication'].apply(find_disease)\n",
    "\n",
    "filtered_df = df[df['Disease'] != \"None\"]\n",
    "\n",
    "filtered_df.head()"
   ]
  },
  {
   "cell_type": "code",
   "execution_count": 16,
   "id": "62d37bf9",
   "metadata": {},
   "outputs": [
    {
     "name": "stdout",
     "output_type": "stream",
     "text": [
      "['Eating Disorders' 'Substance Use Disorders' 'Major Depressive Disorder'\n",
      " 'Schizophrenia' 'Alzheimer’s Disease'\n",
      " 'Attention Deficit Hyperactivity Disorder' 'Anxiety Disorder'\n",
      " 'Bipolar Disorder' 'OCD & Tourette Syndrome' 'Autism Spectrum Disorder']\n"
     ]
    }
   ],
   "source": [
    "unique_diseases = filtered_df['Disease'].unique()\n",
    "\n",
    "print(unique_diseases)"
   ]
  },
  {
   "cell_type": "code",
   "execution_count": 17,
   "id": "3f3d9cb4",
   "metadata": {},
   "outputs": [],
   "source": [
    "filtered_df.to_csv('../data/indication_gene_link/filtered_drugbank.csv', index=False)"
   ]
  },
  {
   "cell_type": "code",
   "execution_count": 18,
   "id": "edb4d98a",
   "metadata": {},
   "outputs": [],
   "source": [
    "indication_names_by_disease = filtered_df.groupby('Disease')['Indication'].apply(lambda x: '; '.join(x.unique())).reset_index()\n",
    "indication_names_df = pd.DataFrame(indication_names_by_disease)\n",
    "indication_names_df.columns = ['Disease', 'Indication']\n",
    "indication_names_df.head(7)\n",
    "indication_names_df.to_csv('../data/indication_gene_link/dictionary_DB.csv', index=False)"
   ]
  }
 ],
 "metadata": {
  "kernelspec": {
   "display_name": "Python 3 (ipykernel)",
   "language": "python",
   "name": "python3"
  },
  "language_info": {
   "codemirror_mode": {
    "name": "ipython",
    "version": 3
   },
   "file_extension": ".py",
   "mimetype": "text/x-python",
   "name": "python",
   "nbconvert_exporter": "python",
   "pygments_lexer": "ipython3",
   "version": "3.11.5"
  }
 },
 "nbformat": 4,
 "nbformat_minor": 5
}
